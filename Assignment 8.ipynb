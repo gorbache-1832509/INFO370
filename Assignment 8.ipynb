{
 "cells": [
  {
   "cell_type": "markdown",
   "id": "6fcd9d22-ca98-4e02-8930-f6c5453d7dec",
   "metadata": {},
   "source": [
    "<font size =\"5\"><b>INFO 370 Assignment 8: Applied Modeling</b></font>"
   ]
  },
  {
   "cell_type": "markdown",
   "id": "f5cebddc-cb57-4426-8f93-4fd7d081aa35",
   "metadata": {},
   "source": [
    "Name: Ellen Gorbach"
   ]
  },
  {
   "cell_type": "markdown",
   "id": "8374b6e9-dc08-450c-8010-f8b00e3531b7",
   "metadata": {},
   "source": [
    "<font size =\"3\"><b>1: Is COMPAS fair?</b></font>"
   ]
  },
  {
   "cell_type": "code",
   "execution_count": 1,
   "id": "2947a0c0-a58a-4c1f-8d76-62ae5c0daa47",
   "metadata": {},
   "outputs": [
    {
     "name": "stdout",
     "output_type": "stream",
     "text": [
      "8\n",
      "6172\n",
      "age                0\n",
      "c_charge_degree    0\n",
      "race               0\n",
      "age_cat            0\n",
      "sex                0\n",
      "priors_count       0\n",
      "decile_score       0\n",
      "two_year_recid     0\n",
      "dtype: int64\n"
     ]
    },
    {
     "data": {
      "text/html": [
       "<div>\n",
       "<style scoped>\n",
       "    .dataframe tbody tr th:only-of-type {\n",
       "        vertical-align: middle;\n",
       "    }\n",
       "\n",
       "    .dataframe tbody tr th {\n",
       "        vertical-align: top;\n",
       "    }\n",
       "\n",
       "    .dataframe thead th {\n",
       "        text-align: right;\n",
       "    }\n",
       "</style>\n",
       "<table border=\"1\" class=\"dataframe\">\n",
       "  <thead>\n",
       "    <tr style=\"text-align: right;\">\n",
       "      <th></th>\n",
       "      <th>age</th>\n",
       "      <th>c_charge_degree</th>\n",
       "      <th>race</th>\n",
       "      <th>age_cat</th>\n",
       "      <th>sex</th>\n",
       "      <th>priors_count</th>\n",
       "      <th>decile_score</th>\n",
       "      <th>two_year_recid</th>\n",
       "    </tr>\n",
       "  </thead>\n",
       "  <tbody>\n",
       "    <tr>\n",
       "      <th>0</th>\n",
       "      <td>69</td>\n",
       "      <td>F</td>\n",
       "      <td>Other</td>\n",
       "      <td>Greater than 45</td>\n",
       "      <td>Male</td>\n",
       "      <td>0</td>\n",
       "      <td>1</td>\n",
       "      <td>0</td>\n",
       "    </tr>\n",
       "    <tr>\n",
       "      <th>1</th>\n",
       "      <td>34</td>\n",
       "      <td>F</td>\n",
       "      <td>African-American</td>\n",
       "      <td>25 - 45</td>\n",
       "      <td>Male</td>\n",
       "      <td>0</td>\n",
       "      <td>3</td>\n",
       "      <td>1</td>\n",
       "    </tr>\n",
       "    <tr>\n",
       "      <th>2</th>\n",
       "      <td>24</td>\n",
       "      <td>F</td>\n",
       "      <td>African-American</td>\n",
       "      <td>Less than 25</td>\n",
       "      <td>Male</td>\n",
       "      <td>4</td>\n",
       "      <td>4</td>\n",
       "      <td>1</td>\n",
       "    </tr>\n",
       "    <tr>\n",
       "      <th>3</th>\n",
       "      <td>44</td>\n",
       "      <td>M</td>\n",
       "      <td>Other</td>\n",
       "      <td>25 - 45</td>\n",
       "      <td>Male</td>\n",
       "      <td>0</td>\n",
       "      <td>1</td>\n",
       "      <td>0</td>\n",
       "    </tr>\n",
       "    <tr>\n",
       "      <th>4</th>\n",
       "      <td>41</td>\n",
       "      <td>F</td>\n",
       "      <td>Caucasian</td>\n",
       "      <td>25 - 45</td>\n",
       "      <td>Male</td>\n",
       "      <td>14</td>\n",
       "      <td>6</td>\n",
       "      <td>1</td>\n",
       "    </tr>\n",
       "  </tbody>\n",
       "</table>\n",
       "</div>"
      ],
      "text/plain": [
       "   age c_charge_degree              race          age_cat   sex  priors_count  \\\n",
       "0   69               F             Other  Greater than 45  Male             0   \n",
       "1   34               F  African-American          25 - 45  Male             0   \n",
       "2   24               F  African-American     Less than 25  Male             4   \n",
       "3   44               M             Other          25 - 45  Male             0   \n",
       "4   41               F         Caucasian          25 - 45  Male            14   \n",
       "\n",
       "   decile_score  two_year_recid  \n",
       "0             1               0  \n",
       "1             3               1  \n",
       "2             4               1  \n",
       "3             1               0  \n",
       "4             6               1  "
      ]
     },
     "execution_count": 1,
     "metadata": {},
     "output_type": "execute_result"
    }
   ],
   "source": [
    "#1.1\n",
    "import pandas as pd\n",
    "import numpy as np\n",
    "import matplotlib.pyplot as plt\n",
    "\n",
    "compasAllData = pd.read_csv(\"data/compas-score-data.csv.bz2\", sep=\"\\t\")\n",
    "columns = len(compasAllData.columns)\n",
    "print(columns)\n",
    "rows = len(compasAllData)\n",
    "print(rows)\n",
    "numNull = compasAllData.isna().sum()\n",
    "print(numNull)\n",
    "compasAllData.head()"
   ]
  },
  {
   "cell_type": "code",
   "execution_count": 2,
   "id": "0153f239-36c3-42e5-96c5-97aea5536ae6",
   "metadata": {},
   "outputs": [
    {
     "data": {
      "text/html": [
       "<div>\n",
       "<style scoped>\n",
       "    .dataframe tbody tr th:only-of-type {\n",
       "        vertical-align: middle;\n",
       "    }\n",
       "\n",
       "    .dataframe tbody tr th {\n",
       "        vertical-align: top;\n",
       "    }\n",
       "\n",
       "    .dataframe thead th {\n",
       "        text-align: right;\n",
       "    }\n",
       "</style>\n",
       "<table border=\"1\" class=\"dataframe\">\n",
       "  <thead>\n",
       "    <tr style=\"text-align: right;\">\n",
       "      <th></th>\n",
       "      <th>age</th>\n",
       "      <th>c_charge_degree</th>\n",
       "      <th>race</th>\n",
       "      <th>age_cat</th>\n",
       "      <th>sex</th>\n",
       "      <th>priors_count</th>\n",
       "      <th>decile_score</th>\n",
       "      <th>two_year_recid</th>\n",
       "    </tr>\n",
       "  </thead>\n",
       "  <tbody>\n",
       "    <tr>\n",
       "      <th>1</th>\n",
       "      <td>34</td>\n",
       "      <td>F</td>\n",
       "      <td>African-American</td>\n",
       "      <td>25 - 45</td>\n",
       "      <td>Male</td>\n",
       "      <td>0</td>\n",
       "      <td>3</td>\n",
       "      <td>1</td>\n",
       "    </tr>\n",
       "    <tr>\n",
       "      <th>2</th>\n",
       "      <td>24</td>\n",
       "      <td>F</td>\n",
       "      <td>African-American</td>\n",
       "      <td>Less than 25</td>\n",
       "      <td>Male</td>\n",
       "      <td>4</td>\n",
       "      <td>4</td>\n",
       "      <td>1</td>\n",
       "    </tr>\n",
       "    <tr>\n",
       "      <th>4</th>\n",
       "      <td>41</td>\n",
       "      <td>F</td>\n",
       "      <td>Caucasian</td>\n",
       "      <td>25 - 45</td>\n",
       "      <td>Male</td>\n",
       "      <td>14</td>\n",
       "      <td>6</td>\n",
       "      <td>1</td>\n",
       "    </tr>\n",
       "    <tr>\n",
       "      <th>6</th>\n",
       "      <td>39</td>\n",
       "      <td>M</td>\n",
       "      <td>Caucasian</td>\n",
       "      <td>25 - 45</td>\n",
       "      <td>Female</td>\n",
       "      <td>0</td>\n",
       "      <td>1</td>\n",
       "      <td>0</td>\n",
       "    </tr>\n",
       "    <tr>\n",
       "      <th>7</th>\n",
       "      <td>27</td>\n",
       "      <td>F</td>\n",
       "      <td>Caucasian</td>\n",
       "      <td>25 - 45</td>\n",
       "      <td>Male</td>\n",
       "      <td>0</td>\n",
       "      <td>4</td>\n",
       "      <td>0</td>\n",
       "    </tr>\n",
       "  </tbody>\n",
       "</table>\n",
       "</div>"
      ],
      "text/plain": [
       "   age c_charge_degree              race       age_cat     sex  priors_count  \\\n",
       "1   34               F  African-American       25 - 45    Male             0   \n",
       "2   24               F  African-American  Less than 25    Male             4   \n",
       "4   41               F         Caucasian       25 - 45    Male            14   \n",
       "6   39               M         Caucasian       25 - 45  Female             0   \n",
       "7   27               F         Caucasian       25 - 45    Male             0   \n",
       "\n",
       "   decile_score  two_year_recid  \n",
       "1             3               1  \n",
       "2             4               1  \n",
       "4             6               1  \n",
       "6             1               0  \n",
       "7             4               0  "
      ]
     },
     "execution_count": 2,
     "metadata": {},
     "output_type": "execute_result"
    }
   ],
   "source": [
    "#1.2 \n",
    "compas = compasAllData[(compasAllData.race == \"African-American\") | \n",
    "           (compasAllData.race == \"Caucasian\")]\n",
    "compas.head()"
   ]
  },
  {
   "cell_type": "code",
   "execution_count": 3,
   "id": "0302db0f-93e0-40ea-a923-12d82375397e",
   "metadata": {},
   "outputs": [
    {
     "name": "stderr",
     "output_type": "stream",
     "text": [
      "<ipython-input-3-5b8e3d73f960>:3: SettingWithCopyWarning: \n",
      "A value is trying to be set on a copy of a slice from a DataFrame.\n",
      "Try using .loc[row_indexer,col_indexer] = value instead\n",
      "\n",
      "See the caveats in the documentation: https://pandas.pydata.org/pandas-docs/stable/user_guide/indexing.html#returning-a-view-versus-a-copy\n",
      "  compas[\"decileRisk\"] = pd.cut(compas.decile_score,\n"
     ]
    },
    {
     "data": {
      "text/html": [
       "<div>\n",
       "<style scoped>\n",
       "    .dataframe tbody tr th:only-of-type {\n",
       "        vertical-align: middle;\n",
       "    }\n",
       "\n",
       "    .dataframe tbody tr th {\n",
       "        vertical-align: top;\n",
       "    }\n",
       "\n",
       "    .dataframe thead th {\n",
       "        text-align: right;\n",
       "    }\n",
       "</style>\n",
       "<table border=\"1\" class=\"dataframe\">\n",
       "  <thead>\n",
       "    <tr style=\"text-align: right;\">\n",
       "      <th></th>\n",
       "      <th>age</th>\n",
       "      <th>c_charge_degree</th>\n",
       "      <th>race</th>\n",
       "      <th>age_cat</th>\n",
       "      <th>sex</th>\n",
       "      <th>priors_count</th>\n",
       "      <th>decile_score</th>\n",
       "      <th>two_year_recid</th>\n",
       "      <th>decileRisk</th>\n",
       "    </tr>\n",
       "  </thead>\n",
       "  <tbody>\n",
       "    <tr>\n",
       "      <th>1</th>\n",
       "      <td>34</td>\n",
       "      <td>F</td>\n",
       "      <td>African-American</td>\n",
       "      <td>25 - 45</td>\n",
       "      <td>Male</td>\n",
       "      <td>0</td>\n",
       "      <td>3</td>\n",
       "      <td>1</td>\n",
       "      <td>0</td>\n",
       "    </tr>\n",
       "    <tr>\n",
       "      <th>2</th>\n",
       "      <td>24</td>\n",
       "      <td>F</td>\n",
       "      <td>African-American</td>\n",
       "      <td>Less than 25</td>\n",
       "      <td>Male</td>\n",
       "      <td>4</td>\n",
       "      <td>4</td>\n",
       "      <td>1</td>\n",
       "      <td>0</td>\n",
       "    </tr>\n",
       "    <tr>\n",
       "      <th>4</th>\n",
       "      <td>41</td>\n",
       "      <td>F</td>\n",
       "      <td>Caucasian</td>\n",
       "      <td>25 - 45</td>\n",
       "      <td>Male</td>\n",
       "      <td>14</td>\n",
       "      <td>6</td>\n",
       "      <td>1</td>\n",
       "      <td>1</td>\n",
       "    </tr>\n",
       "    <tr>\n",
       "      <th>6</th>\n",
       "      <td>39</td>\n",
       "      <td>M</td>\n",
       "      <td>Caucasian</td>\n",
       "      <td>25 - 45</td>\n",
       "      <td>Female</td>\n",
       "      <td>0</td>\n",
       "      <td>1</td>\n",
       "      <td>0</td>\n",
       "      <td>0</td>\n",
       "    </tr>\n",
       "    <tr>\n",
       "      <th>7</th>\n",
       "      <td>27</td>\n",
       "      <td>F</td>\n",
       "      <td>Caucasian</td>\n",
       "      <td>25 - 45</td>\n",
       "      <td>Male</td>\n",
       "      <td>0</td>\n",
       "      <td>4</td>\n",
       "      <td>0</td>\n",
       "      <td>0</td>\n",
       "    </tr>\n",
       "  </tbody>\n",
       "</table>\n",
       "</div>"
      ],
      "text/plain": [
       "   age c_charge_degree              race       age_cat     sex  priors_count  \\\n",
       "1   34               F  African-American       25 - 45    Male             0   \n",
       "2   24               F  African-American  Less than 25    Male             4   \n",
       "4   41               F         Caucasian       25 - 45    Male            14   \n",
       "6   39               M         Caucasian       25 - 45  Female             0   \n",
       "7   27               F         Caucasian       25 - 45    Male             0   \n",
       "\n",
       "   decile_score  two_year_recid decileRisk  \n",
       "1             3               1          0  \n",
       "2             4               1          0  \n",
       "4             6               1          1  \n",
       "6             1               0          0  \n",
       "7             4               0          0  "
      ]
     },
     "execution_count": 3,
     "metadata": {},
     "output_type": "execute_result"
    }
   ],
   "source": [
    "#1.3\n",
    "# low risk = 1-4 high risk = 5-10 based on decile_score\n",
    "compas[\"decileRisk\"] = pd.cut(compas.decile_score,\n",
    "                            bins = [0, 4, 10],\n",
    "                            labels = [0, 1])\n",
    "# 0 is low risk and 1 is high risk of recidivism\n",
    "compas.head()"
   ]
  },
  {
   "cell_type": "code",
   "execution_count": 4,
   "id": "31e50ced-09b8-45f2-90b6-17bee4071571",
   "metadata": {},
   "outputs": [
    {
     "name": "stdout",
     "output_type": "stream",
     "text": [
      "decileRisk  two_year_recid\n",
      "0           0                 67.998547\n",
      "            1                 32.001453\n",
      "1           1                 63.445545\n",
      "            0                 36.554455\n",
      "Name: two_year_recid, dtype: float64\n"
     ]
    }
   ],
   "source": [
    "#1.4 a\n",
    "riskRate = compas.groupby(\"decileRisk\").two_year_recid.value_counts(normalize=True) * 100\n",
    "print(riskRate)\n",
    "# Recidivism rate for low-risk group is 32.001453% and recidivism rate for high-risk group is 63.445545%."
   ]
  },
  {
   "cell_type": "code",
   "execution_count": 5,
   "id": "f301cd25-ef40-4f58-900b-3863ec6dd571",
   "metadata": {},
   "outputs": [
    {
     "name": "stdout",
     "output_type": "stream",
     "text": [
      "race              two_year_recid\n",
      "African-American  1                 52.314961\n",
      "                  0                 47.685039\n",
      "Caucasian         0                 60.912981\n",
      "                  1                 39.087019\n",
      "Name: two_year_recid, dtype: float64\n"
     ]
    }
   ],
   "source": [
    "#1.4 b\n",
    "raceRate = compas.groupby(\"race\").two_year_recid.value_counts(normalize=True) * 100\n",
    "print(raceRate)\n",
    "# Recidivism rate for African Americans is 52.314961% and recidivism rate for Caucasians is 39.087019%."
   ]
  },
  {
   "cell_type": "code",
   "execution_count": 6,
   "id": "748442ca-b001-407a-9ea9-f6d3e3de2015",
   "metadata": {},
   "outputs": [
    {
     "data": {
      "text/plain": [
       "array([[1872,  923],\n",
       "       [ 881, 1602]])"
      ]
     },
     "execution_count": 6,
     "metadata": {},
     "output_type": "execute_result"
    }
   ],
   "source": [
    "#1.5\n",
    "from sklearn.metrics import confusion_matrix\n",
    "# recidivists = positives\n",
    "cm  = confusion_matrix(compas.two_year_recid,compas.decileRisk)\n",
    "cm\n",
    "#         | pre low  | pre high \n",
    "# no rec  | 1872     | 923  | N = 2795\n",
    "# act rec | 881      | 1602 | P = 2483\n",
    "#         | 2753     | 2525 | T = 5278\n",
    "# 35.48% of recidivists were falsely classified as low-risk (FNR). \n",
    "# 33.02% of non-recidivists were falsely classified as high-risk (FPR).\n",
    "# COMPAS accurately classified 65.82% of individuals. \n",
    "# The percentage of people that were accurately classified as high-risk is 63.45%. \n",
    "# The percentage of recidivists accurately classified is 64.52%. "
   ]
  },
  {
   "cell_type": "code",
   "execution_count": 7,
   "id": "e835236e-ef98-4403-acb6-5975b98d09cd",
   "metadata": {},
   "outputs": [],
   "source": [
    "#1.6\n",
    "# I definitely would not feel comfortable having a judge use COMPAS with this high of a percentage for the various\n",
    "# misclassifications/errors. I'm most concerned about the 33.02% of non-recidivists that were classified as high\n",
    "# risk because that means such a high percentage of people are potentially being placed with longer sentences than\n",
    "# necessary. Algorithms are frequently seen as infallible so the results from COMPAS could make a judge much more\n",
    "# convinced that the sentence they are given is \"correct,\" so COMPAS needs to be held to a higher standard than\n",
    "# a judge who is human and seen as capable of making mistakes. # I truly believe that all of the errors would need\n",
    "# to be below 2% in order for COMPAS to be acceptable to use."
   ]
  },
  {
   "cell_type": "code",
   "execution_count": 8,
   "id": "d0356b7a-3dc3-4a48-928b-0921af1b77d2",
   "metadata": {},
   "outputs": [
    {
     "data": {
      "text/plain": [
       "array([[ 873,  641],\n",
       "       [ 473, 1188]])"
      ]
     },
     "execution_count": 8,
     "metadata": {},
     "output_type": "execute_result"
    }
   ],
   "source": [
    "#1.7 a&b&c African-American\n",
    "compasAA = compas[compas.race == \"African-American\"]\n",
    "# recidivists = positives\n",
    "cmAA  = confusion_matrix(compasAA.two_year_recid,compasAA.decileRisk)\n",
    "cmAA\n",
    "#         | pre low  | pre high \n",
    "# no rec  | 873      | 641  | N = 1514\n",
    "# act rec | 473      | 1188 | P = 1661\n",
    "#         | 1346     | 1829 | T = 3175\n",
    "\n",
    "# COMPAS accurately classified 64.91% of individuals.\n",
    "# The FPR (the rate of people falsely classified as high-risk of recidivism) is 0.4234 or 42.34%.\n",
    "# The FNR (the rate of people falsely classified as low-risk of recidivism) is 0.2848 or 28.48%."
   ]
  },
  {
   "cell_type": "code",
   "execution_count": 9,
   "id": "e77e0147-9951-45c9-96ff-d8669a75a4bb",
   "metadata": {},
   "outputs": [
    {
     "data": {
      "text/plain": [
       "array([[999, 282],\n",
       "       [408, 414]])"
      ]
     },
     "execution_count": 9,
     "metadata": {},
     "output_type": "execute_result"
    }
   ],
   "source": [
    "#1.7 a&b&c Caucasian\n",
    "\n",
    "compasC = compas[compas.race == \"Caucasian\"]\n",
    "# recidivists = positives\n",
    "cmC = confusion_matrix(compasC.two_year_recid,compasC.decileRisk)\n",
    "cmC\n",
    "#         | pre low  | pre high \n",
    "# no rec  | 999      | 282  | N = 1281\n",
    "# act rec | 408      | 414 | P = 822\n",
    "#         | 1407     | 696 | T = 2103\n",
    "\n",
    "# COMPAS accurately classified 67.19% of individuals.\n",
    "# The FPR (the rate of people falsely classified as high-risk of recidivism) is 0.2201 or 22.01%.\n",
    "# The FNR (the rate of people falsely classified as low-risk of recidivism) is 0.4964 or 49.64%."
   ]
  },
  {
   "cell_type": "code",
   "execution_count": 10,
   "id": "7a2a5495-883a-49ec-8a08-e85575ddec7a",
   "metadata": {},
   "outputs": [],
   "source": [
    "#1.8\n",
    "# I believe that the COMPAS algorithm is not fair. I chose to define fair being able to ensure similar FPR and\n",
    "# FNR across categories, which in this case is race. As we can see, Causasians have an FPR of approximately 22%\n",
    "# while African Americans have an FPR of approximately 42%. African Americans are 20% more likely to be falsely \n",
    "# predicted to recidivate, resulting in inequality in the sentences and treatmeants doled out by the courts. We \n",
    "# can also see that Caucasians have an FNR of approximately 49% while African Americans have an FNR of\n",
    "# approximately 28% which means Caucasians are 21% more likely to be predicted to not recidivate, resulting in\n",
    "# less harsh sentences. There's a clear divide in the treatment of African Americans and Caucasians in the \n",
    "# COMPAS algorithm that skews towards punishing African Americans, even though their classification percentages\n",
    "# are fairly similar, showing that something is inherently unbalanced in the algorithm. For recidivism rates\n",
    "# that are only 13% apart, the differences in FPR and FNR between the two races is drastically too large for\n",
    "# this algorithm to be considered fair."
   ]
  },
  {
   "cell_type": "markdown",
   "id": "dfc1a36d-b78e-4dad-acd8-472a81e66e3f",
   "metadata": {},
   "source": [
    "<font size =\"3\"><b>2: Can you beat COMPAS?</b></font>"
   ]
  },
  {
   "cell_type": "code",
   "execution_count": 11,
   "id": "c9c3656d-365a-4164-9d05-8a1bebe9454e",
   "metadata": {},
   "outputs": [],
   "source": [
    "#2.1\n",
    "\n",
    "# Although all of this information is incredibly important, I believe that the false negative case (aka predicted\n",
    "# recidivism but the person recidivate) is the most detrimental. This results in certain people spending more time\n",
    "# in prison and especially since there is a racial skew towards African-Americans in this false negative means\n",
    "# that this is the problem we should be trying to minimize. I believe that it's better to let a guilty person go\n",
    "# free than to jail an innocent person so our first goal is to measure recall (since it's a good measure for\n",
    "# false negatives) with a second goal of precision (since we also don't want to let guilty people walk free).\n",
    "# I don't want to use F-score because I want to have recall weigh more in my conclusions than precision."
   ]
  },
  {
   "cell_type": "code",
   "execution_count": 12,
   "id": "31fc57ae-c7ff-477a-900b-d06023887bdf",
   "metadata": {},
   "outputs": [
    {
     "name": "stderr",
     "output_type": "stream",
     "text": [
      "<ipython-input-12-61f972605a0d>:2: SettingWithCopyWarning: \n",
      "A value is trying to be set on a copy of a slice from a DataFrame.\n",
      "Try using .loc[row_indexer,col_indexer] = value instead\n",
      "\n",
      "See the caveats in the documentation: https://pandas.pydata.org/pandas-docs/stable/user_guide/indexing.html#returning-a-view-versus-a-copy\n",
      "  compas[\"priorsCat\"] = pd.cut(compas.priors_count,  # creating dummy variables\n"
     ]
    },
    {
     "name": "stdout",
     "output_type": "stream",
     "text": [
      "0.6742988471048244\n",
      "0.67389767234811\n"
     ]
    }
   ],
   "source": [
    "#2.2 \n",
    "compas[\"priorsCat\"] = pd.cut(compas.priors_count,  # creating dummy variables\n",
    "                            bins = [-np.inf, 0, 10, 20, np.inf],\n",
    "                            labels = [\"0\", \"1-10\", \"11-20\", \"21+\"])\n",
    "priors = pd.get_dummies(compas.priorsCat, drop_first=True)\n",
    "age = pd.get_dummies(compas.age_cat, drop_first=True)\n",
    "degree = pd.get_dummies(compas.c_charge_degree, drop_first=True)\n",
    "risk = pd.get_dummies(compas.decileRisk, drop_first=True)\n",
    "\n",
    "from sklearn.linear_model import LogisticRegression # modeling\n",
    "X = pd.concat((priors, risk, age, degree), axis = 1)\n",
    "y = compas.two_year_recid\n",
    "\n",
    "m = LogisticRegression()\n",
    "\n",
    "from sklearn.model_selection import cross_val_score\n",
    "recallCV = (cross_val_score(m,X,y,scoring=\"recall_weighted\",cv=10)).mean()\n",
    "print(recallCV)\n",
    "precisionCV = (cross_val_score(m,X,y,scoring=\"precision_weighted\",cv=10)).mean()\n",
    "print(precisionCV)\n",
    "\n",
    "# Used weighted for precision and recall because it gets the precision and recall for each fold. Source below.\n",
    "# https://www.researchgate.net/post/How_to_find_the_metrics_for_cross_folds_validation_process"
   ]
  },
  {
   "cell_type": "code",
   "execution_count": 13,
   "id": "22764c1e-ff3d-44dd-ac83-5e909e86bb1a",
   "metadata": {},
   "outputs": [
    {
     "name": "stderr",
     "output_type": "stream",
     "text": [
      "<ipython-input-13-d001c87838b4>:2: SettingWithCopyWarning: \n",
      "A value is trying to be set on a copy of a slice from a DataFrame.\n",
      "Try using .loc[row_indexer,col_indexer] = value instead\n",
      "\n",
      "See the caveats in the documentation: https://pandas.pydata.org/pandas-docs/stable/user_guide/indexing.html#returning-a-view-versus-a-copy\n",
      "  compas[\"ageTest\"] = pd.cut(compas.age,  # creating dummy variables\n",
      "<ipython-input-13-d001c87838b4>:7: SettingWithCopyWarning: \n",
      "A value is trying to be set on a copy of a slice from a DataFrame.\n",
      "Try using .loc[row_indexer,col_indexer] = value instead\n",
      "\n",
      "See the caveats in the documentation: https://pandas.pydata.org/pandas-docs/stable/user_guide/indexing.html#returning-a-view-versus-a-copy\n",
      "  compas[\"priorTest\"] = pd.cut(compas.priors_count,  # creating dummy variables\n"
     ]
    },
    {
     "name": "stdout",
     "output_type": "stream",
     "text": [
      "0.6820704674831809\n",
      "0.6820718193057329\n"
     ]
    }
   ],
   "source": [
    "#2.3\n",
    "compas[\"ageTest\"] = pd.cut(compas.age,  # creating dummy variables\n",
    "                            bins = [-np.inf, 19, 21, 28, 40, np.inf],\n",
    "                            labels = [\"<=19\", \"20-21\", \"22-28\", \"29-40\", \"41+\"])\n",
    "age2 = pd.get_dummies(compas.ageTest, drop_first=True)\n",
    "\n",
    "compas[\"priorTest\"] = pd.cut(compas.priors_count,  # creating dummy variables\n",
    "                            bins = [-np.inf, 0, 5, 9, 11, 20, 30, np.inf],\n",
    "                            labels = [\"0\", \"1-5\",\"6-9\", \"10-11\", \"12-20\", \"21-30\", \"31+\"])\n",
    "priors2 = pd.get_dummies(compas.priorTest, drop_first=True)\n",
    "\n",
    "\n",
    "X = pd.concat((priors2, risk, age2, degree), axis = 1)\n",
    "y = compas.two_year_recid\n",
    "\n",
    "m = LogisticRegression()\n",
    "\n",
    "\n",
    "recallCV = (cross_val_score(m,X,y,scoring=\"recall_weighted\",cv=10)).mean()\n",
    "print(recallCV)\n",
    "precisionCV = (cross_val_score(m,X,y,scoring=\"precision_weighted\",cv=10)).mean()\n",
    "print(precisionCV)\n",
    "\n",
    "# I attempted to remove different features.\n",
    "# I attempted various groupings for categories for ages and priors. \n",
    "# The ones above are the best picks that I could find.\n",
    "# COMPAS had the recall as .6452 and I have .6821 so my model is better for recall.\n",
    "# COMPAS had the precision as 0.6345 and I have .6821 so my model is also better for precison.\n",
    "# Considering that both performance measurements I used are better, I can say my model is better than COMPAS."
   ]
  },
  {
   "cell_type": "code",
   "execution_count": 14,
   "id": "dd306647-367b-440f-b61d-1605f9f08b1b",
   "metadata": {},
   "outputs": [
    {
     "name": "stdout",
     "output_type": "stream",
     "text": [
      "0.6773327439480192\n",
      "0.6773474240356008\n"
     ]
    }
   ],
   "source": [
    "#2.4 adding sex\n",
    "\n",
    "sex = pd.get_dummies(compas.sex, drop_first=True)\n",
    "X = pd.concat((priors2, risk, age2, degree, sex), axis = 1)\n",
    "y = compas.two_year_recid\n",
    "\n",
    "m = LogisticRegression()\n",
    "\n",
    "recallCV = (cross_val_score(m,X,y,scoring=\"recall_weighted\",cv=10)).mean()\n",
    "print(recallCV)\n",
    "precisionCV = (cross_val_score(m,X,y,scoring=\"precision_weighted\",cv=10)).mean()\n",
    "print(precisionCV)\n",
    "\n",
    "# Adding sex as a feature made the model worse in terms of recall and precision as compared to my model."
   ]
  },
  {
   "cell_type": "code",
   "execution_count": 15,
   "id": "e975c52b-c002-49ea-812f-63e858e805a5",
   "metadata": {},
   "outputs": [
    {
     "name": "stdout",
     "output_type": "stream",
     "text": [
      "0.6769543154505204\n",
      "0.6769612293920081\n"
     ]
    }
   ],
   "source": [
    "#2.5 a\n",
    "\n",
    "race = pd.get_dummies(compas.race, drop_first=True)\n",
    "X = pd.concat((priors2, risk, age2, degree, sex, race), axis = 1)\n",
    "y = compas.two_year_recid\n",
    "\n",
    "m = LogisticRegression()\n",
    "\n",
    "recallCV = (cross_val_score(m,X,y,scoring=\"recall_weighted\",cv=10)).mean()\n",
    "print(recallCV)\n",
    "precisionCV = (cross_val_score(m,X,y,scoring=\"precision_weighted\",cv=10)).mean()\n",
    "print(precisionCV)\n",
    "\n",
    "# Adding race as a feature made the model worse than just having sex and the model did not reach\n",
    "# the level at which I had it without sex and race (in terms of recall and precision)."
   ]
  },
  {
   "cell_type": "code",
   "execution_count": 16,
   "id": "5fd0d58c-b274-4e38-afdc-9c8f87173dcc",
   "metadata": {},
   "outputs": [
    {
     "name": "stdout",
     "output_type": "stream",
     "text": [
      "0.6824492553619688\n",
      "0.6825481173993606\n"
     ]
    }
   ],
   "source": [
    "# 2.5 b\n",
    "# Out of curiosity, I decided to try adding race to the model but not sex.\n",
    "\n",
    "X = pd.concat((priors2, risk, age2, degree, race), axis = 1)\n",
    "y = compas.two_year_recid\n",
    "\n",
    "m = LogisticRegression()\n",
    "\n",
    "recallCV = (cross_val_score(m,X,y,scoring=\"recall_weighted\",cv=10)).mean()\n",
    "print(recallCV)\n",
    "precisionCV = (cross_val_score(m,X,y,scoring=\"precision_weighted\",cv=10)).mean()\n",
    "print(precisionCV)\n",
    "\n",
    "# Adding race (but not sex) as a feature made the model better than my best attempt in terms of precision \n",
    "# and recall."
   ]
  },
  {
   "cell_type": "code",
   "execution_count": 17,
   "id": "59ea9c33-7040-4c1c-b323-3747cf708a2d",
   "metadata": {},
   "outputs": [],
   "source": [
    "#2.6 \n",
    "\n",
    "# I managed to surpass COMPAS in its predictive capabilities when looking at recall and precision as performance\n",
    "# measures. Race on its own helped improve my predictions but sex on its own and race and sex combined made it \n",
    "# worse. I don't think either my model or COMPAS are accurate enough in their predictions to be useful tools for \n",
    "# predicting recidivism and that judges, if they do decide to use these models, should take the results from them \n",
    "# with a high grain of salt. Especially if the features that went into the model are not public information, its\n",
    "# almost impossible to tell what sort of biases are present in it and will be perpetuated if the model is used\n",
    "# for substantial decisions like sentence lengths for criminals."
   ]
  },
  {
   "cell_type": "markdown",
   "id": "e68af693-fdf7-4e45-b7e2-4486a9b15da0",
   "metadata": {},
   "source": [
    "I spent around 6.5 hours on this assignment"
   ]
  }
 ],
 "metadata": {
  "kernelspec": {
   "display_name": "Python 3",
   "language": "python",
   "name": "python3"
  },
  "language_info": {
   "codemirror_mode": {
    "name": "ipython",
    "version": 3
   },
   "file_extension": ".py",
   "mimetype": "text/x-python",
   "name": "python",
   "nbconvert_exporter": "python",
   "pygments_lexer": "ipython3",
   "version": "3.8.8"
  }
 },
 "nbformat": 4,
 "nbformat_minor": 5
}
