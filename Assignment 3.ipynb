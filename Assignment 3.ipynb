{
 "cells": [
  {
   "cell_type": "markdown",
   "id": "6fcd9d22-ca98-4e02-8930-f6c5453d7dec",
   "metadata": {},
   "source": [
    "<font size =\"5\"><b>INFO 370 Assignment 3: Webscraping</b></font>"
   ]
  },
  {
   "cell_type": "markdown",
   "id": "f5cebddc-cb57-4426-8f93-4fd7d081aa35",
   "metadata": {},
   "source": [
    "Name: Ellen Gorbach"
   ]
  },
  {
   "cell_type": "markdown",
   "id": "8374b6e9-dc08-450c-8010-f8b00e3531b7",
   "metadata": {},
   "source": [
    "<font size =\"3\"><b>1: Legal and Ethical Issues</b></font>"
   ]
  },
  {
   "cell_type": "markdown",
   "id": "3741068a-dfbf-4237-aafd-70e43dfbed03",
   "metadata": {},
   "source": [
    "1.1\n",
    "Website: https://whatsinthepan.com/"
   ]
  },
  {
   "cell_type": "markdown",
   "id": "b7663ebe-7e0c-470d-90d6-f3fc2705d40e",
   "metadata": {},
   "source": [
    "1.2\n",
    "Legality: What's in the Pan doesn't have a Terms of Service and the Privacy Policy is mainly about how the user's data will be protected or not rather than protection of the recipes. The robots.txt file also has no information about web scraping the recipes."
   ]
  },
  {
   "cell_type": "markdown",
   "id": "3c283880-e0af-4466-967d-34ad38a50590",
   "metadata": {},
   "source": [
    "1.3\n",
    "Steps to Lessen Burden:\n",
    "Check terms of service (About scraping and downloading), then check robots.txt about how to scrape to make sure that you are not being a burden that cannot be supported by the website. Additionally, as the problem set instructions say, make sure to download the html as few times as possible, choosing to save the downloaded files to your machine and work from there. If that's not an option, make sure to not send too many requests to the website server in a short span of time to prevent overwhelming their system. "
   ]
  },
  {
   "cell_type": "markdown",
   "id": "dfc1a36d-b78e-4dad-acd8-472a81e66e3f",
   "metadata": {},
   "source": [
    "<font size =\"3\"><b>2: Scrape the Recipes</b></font>"
   ]
  },
  {
   "cell_type": "code",
   "execution_count": 1,
   "id": "c9c3656d-365a-4164-9d05-8a1bebe9454e",
   "metadata": {},
   "outputs": [],
   "source": [
    "#2.1 part 1\n",
    "from bs4 import BeautifulSoup\n",
    "import pandas as pd\n",
    "import requests\n",
    "url = \"https://whatsinthepan.com/recipes/\"\n",
    "response = requests.get(url) # retrieves the html data from the base webpage"
   ]
  },
  {
   "cell_type": "code",
   "execution_count": 2,
   "id": "ea245e04-4085-4797-93e6-86ac689de561",
   "metadata": {},
   "outputs": [
    {
     "data": {
      "text/plain": [
       "['https://whatsinthepan.com/category/holiday-recipes/',\n",
       " 'https://whatsinthepan.com/category/maindishes/',\n",
       " 'https://whatsinthepan.com/category/instant-pot/',\n",
       " 'https://whatsinthepan.com/category/pasta/',\n",
       " 'https://whatsinthepan.com/category/desserts/']"
      ]
     },
     "execution_count": 2,
     "metadata": {},
     "output_type": "execute_result"
    }
   ],
   "source": [
    "#2.1 part 2\n",
    "allRecipes = response.content # gets the html\n",
    "allRecipesSoup = BeautifulSoup(allRecipes) # parses the html\n",
    "# finds the areas that contain the links to all recipes in a category\n",
    "moreCategory = allRecipesSoup.find_all(\"p\", class_ = \"more-from-category\")\n",
    "specializedRecipes = []\n",
    "for link in moreCategory: # retrieves each of the links to the categories\n",
    "    currentLink = link.find(\"a\")\n",
    "    specializedRecipes.append(currentLink.get(\"href\"))\n",
    "specializedRecipes"
   ]
  },
  {
   "cell_type": "code",
   "execution_count": 3,
   "id": "c85f8108-db43-4c28-a5c9-1bd63ee3b59d",
   "metadata": {},
   "outputs": [],
   "source": [
    "#2.1 part 3\n",
    "thisRecipe = []\n",
    "id = 0\n",
    "for specializedRecipe in specializedRecipes:\n",
    "    response = requests.get(specializedRecipe) # retrieves the html from each category page\n",
    "    currentRecipes = response.content # gets the html from that category\n",
    "    currentRecipesSoup = BeautifulSoup(currentRecipes) # parses the html\n",
    "    # finds the areas that contain links to individual recipes\n",
    "    currentRecipe = currentRecipesSoup.find_all(\"a\", class_ = \"more-link\")\n",
    "    for recipe in currentRecipe: # retrieves the link to each recipe\n",
    "        thisRecipe.append(recipe.get(\"href\"))\n",
    "    \n"
   ]
  },
  {
   "cell_type": "code",
   "execution_count": 4,
   "id": "4308fa15-380e-4605-845c-6ac6cc9cf6df",
   "metadata": {},
   "outputs": [],
   "source": [
    "#2.1 part 4 & 2.2 & 2.3\n",
    "column_names = [\"id\", \"name\", \"text\", \"quantity\", \"unit\", \"ingredient\"] # creates the variables for the dataframe\n",
    "recipesdf = pd.DataFrame(columns = column_names) # creates an empty dataframe (only column names)\n",
    "\n",
    "for currentRecipe in thisRecipe: # for each recipe\n",
    "    id = id + 1 # creates an id number\n",
    "    response = requests.get(currentRecipe) # retrieves the html for the recipe\n",
    "    recipe = response.content # gets the html\n",
    "    recipeSoup = BeautifulSoup(recipe) # parses the html\n",
    "    nameStart = recipeSoup.find(\"div\", class_=\"entry-content\") # finds the area the name of the recipe is located\n",
    "    fullName = nameStart.find(\"h2\").text # gets the name of the recipe\n",
    "    # finds where the ingredient section(s) are stored\n",
    "    ingredients = recipeSoup.find_all(\"li\", class_ = \"wprm-recipe-ingredient\")\n",
    "    \n",
    "    # Since all of the ingredients are stored the same way (aside from potential missing values which are checked for later)\n",
    "    # we don't need to worry about checking for permission in terms of splitting the ingredients\n",
    "    for ingredient in ingredients: \n",
    "        text = ingredient.text # extracts the name, amount, and unit of each ingredient\n",
    "        # finds the amount (quantity) section of the ingredient line\n",
    "        amountNode = ingredient.find(\"span\", class_ = \"wprm-recipe-ingredient-amount\")\n",
    "        # checks if the amount section is null and if not, extracts that value\n",
    "        if amountNode is not None:\n",
    "            amount = amountNode.text\n",
    "        else:\n",
    "            amount = None\n",
    "        # finds the unit of the ingredient line\n",
    "        unitNode = ingredient.find(\"span\", class_ = \"wprm-recipe-ingredient-unit\")\n",
    "        # checks if the unit section is null and if not, extracts that value\n",
    "        if unitNode is not None:\n",
    "            unit = unitNode.text\n",
    "        else:\n",
    "            unit = None\n",
    "            # finds the name section of the ingredient line\n",
    "        nameNode = ingredient.find(\"span\", class_ = \"wprm-recipe-ingredient-name\")\n",
    "        # checks if the name section is null and if not, extracts that value\n",
    "        if nameNode is not None:\n",
    "            name = nameNode.text\n",
    "        else:\n",
    "            name = None\n",
    "        # adds all of the gathered information for each recipe/ingredient to the dataframe\n",
    "        recipesdf = recipesdf.append({\"id\" : id, \"name\" : fullName, \"text\" : text, \"quantity\" : amount, \"unit\" : unit, \"ingredient\" : name}, ignore_index=True)\n",
    "            \n",
    "            \n",
    "# https://stackoverflow.com/questions/51664292/python-attributeerror-nonetype-object-has-no-attribute-text (for the if else)\n",
    "# https://www.geeksforgeeks.org/how-to-create-an-empty-dataframe-and-append-rows-columns-to-it-in-pandas/ (for the appending to df)"
   ]
  },
  {
   "cell_type": "code",
   "execution_count": 5,
   "id": "31fc57ae-c7ff-477a-900b-d06023887bdf",
   "metadata": {},
   "outputs": [
    {
     "data": {
      "text/html": [
       "<div>\n",
       "<style scoped>\n",
       "    .dataframe tbody tr th:only-of-type {\n",
       "        vertical-align: middle;\n",
       "    }\n",
       "\n",
       "    .dataframe tbody tr th {\n",
       "        vertical-align: top;\n",
       "    }\n",
       "\n",
       "    .dataframe thead th {\n",
       "        text-align: right;\n",
       "    }\n",
       "</style>\n",
       "<table border=\"1\" class=\"dataframe\">\n",
       "  <thead>\n",
       "    <tr style=\"text-align: right;\">\n",
       "      <th></th>\n",
       "      <th>id</th>\n",
       "      <th>name</th>\n",
       "      <th>text</th>\n",
       "      <th>quantity</th>\n",
       "      <th>unit</th>\n",
       "      <th>ingredient</th>\n",
       "    </tr>\n",
       "  </thead>\n",
       "  <tbody>\n",
       "    <tr>\n",
       "      <th>0</th>\n",
       "      <td>1</td>\n",
       "      <td>Boneless Turkey Breast in Garlic Herb Butter</td>\n",
       "      <td>5 tbsp butter softened (divided)</td>\n",
       "      <td>5</td>\n",
       "      <td>tbsp</td>\n",
       "      <td>butter</td>\n",
       "    </tr>\n",
       "    <tr>\n",
       "      <th>1</th>\n",
       "      <td>1</td>\n",
       "      <td>Boneless Turkey Breast in Garlic Herb Butter</td>\n",
       "      <td>6 cloves garlic minced</td>\n",
       "      <td>6</td>\n",
       "      <td>cloves</td>\n",
       "      <td>garlic</td>\n",
       "    </tr>\n",
       "    <tr>\n",
       "      <th>2</th>\n",
       "      <td>1</td>\n",
       "      <td>Boneless Turkey Breast in Garlic Herb Butter</td>\n",
       "      <td>2 tbsp fresh herbs (thyme, rosemary, sage and ...</td>\n",
       "      <td>2</td>\n",
       "      <td>tbsp</td>\n",
       "      <td>fresh herbs (thyme, rosemary, sage and parsley)</td>\n",
       "    </tr>\n",
       "    <tr>\n",
       "      <th>3</th>\n",
       "      <td>1</td>\n",
       "      <td>Boneless Turkey Breast in Garlic Herb Butter</td>\n",
       "      <td>1 tsp fresh lemon zest</td>\n",
       "      <td>1</td>\n",
       "      <td>tsp</td>\n",
       "      <td>fresh lemon zest</td>\n",
       "    </tr>\n",
       "    <tr>\n",
       "      <th>4</th>\n",
       "      <td>1</td>\n",
       "      <td>Boneless Turkey Breast in Garlic Herb Butter</td>\n",
       "      <td>1/2 tsp salt</td>\n",
       "      <td>1/2</td>\n",
       "      <td>tsp</td>\n",
       "      <td>salt</td>\n",
       "    </tr>\n",
       "  </tbody>\n",
       "</table>\n",
       "</div>"
      ],
      "text/plain": [
       "  id                                          name  \\\n",
       "0  1  Boneless Turkey Breast in Garlic Herb Butter   \n",
       "1  1  Boneless Turkey Breast in Garlic Herb Butter   \n",
       "2  1  Boneless Turkey Breast in Garlic Herb Butter   \n",
       "3  1  Boneless Turkey Breast in Garlic Herb Butter   \n",
       "4  1  Boneless Turkey Breast in Garlic Herb Butter   \n",
       "\n",
       "                                                text quantity    unit  \\\n",
       "0                   5 tbsp butter softened (divided)        5    tbsp   \n",
       "1                             6 cloves garlic minced        6  cloves   \n",
       "2  2 tbsp fresh herbs (thyme, rosemary, sage and ...        2    tbsp   \n",
       "3                             1 tsp fresh lemon zest        1     tsp   \n",
       "4                                       1/2 tsp salt      1/2     tsp   \n",
       "\n",
       "                                        ingredient  \n",
       "0                                           butter  \n",
       "1                                           garlic  \n",
       "2  fresh herbs (thyme, rosemary, sage and parsley)  \n",
       "3                                 fresh lemon zest  \n",
       "4                                             salt  "
      ]
     },
     "execution_count": 5,
     "metadata": {},
     "output_type": "execute_result"
    }
   ],
   "source": [
    "#2.3 \n",
    "# preview the dataframe to make sure it makes the example in the documentation\n",
    "recipesdf.head()\n",
    "# I checked a few individual recipes to determine if the HTML was styled the same way for all of them\n",
    "# and found that it was so I figure that as long as most of the recipes follow that same structure, \n",
    "# my code should be pretty accurate at getting the correct results back in the correct columns in my \n",
    "# dataframe. I had a little bit of difficulty with getting the loops to work the way we discussed in lecture\n",
    "# so I opted for the longer but more standard way in order to get the code to work. \n"
   ]
  },
  {
   "cell_type": "code",
   "execution_count": 6,
   "id": "64c2c56a-d7ca-404e-8aae-0a77b4072ecb",
   "metadata": {},
   "outputs": [],
   "source": [
    "#2.4\n",
    "# STORE DATAFRAME IN A FILE\n",
    "recipesdf.to_csv('recipesdf.csv')\n",
    "\n",
    "# Taking a look at some of my values in the csv file, I noticed that some of the quantities are framed as dates\n",
    "# because fractions in Excel turn into dates (Ex: 1/2 turned into Jan-2) which doesn't seem to have an impact on my\n",
    "# analysis below but wanted to give a heads up. "
   ]
  },
  {
   "cell_type": "markdown",
   "id": "cd4c67d3-486d-48cf-bf97-8cbcf92f288a",
   "metadata": {},
   "source": [
    "<font size =\"3\"><b>3: Sweet or Salty Foods</b></font>"
   ]
  },
  {
   "cell_type": "code",
   "execution_count": 9,
   "id": "c20b40bb-04d2-4aeb-a6b8-073c6f6e5e73",
   "metadata": {
    "tags": []
   },
   "outputs": [
    {
     "name": "stdout",
     "output_type": "stream",
     "text": [
      "39\n",
      "14\n"
     ]
    }
   ],
   "source": [
    "#3.1\n",
    "recipesDF = pd.read_csv(\"recipesdf.csv\")\n",
    "recipesDF[\"saltExists\"] = recipesDF[\"ingredient\"].str.contains(\"salt\", regex=False)\n",
    "salt = recipesDF.groupby(\"id\")[\"saltExists\"].any().sum()\n",
    "print(salt)\n",
    "\n",
    "recipesDF[\"sugarExists\"] = recipesDF[\"ingredient\"].str.contains(\"sugar\", regex=False)\n",
    "sugar = recipesDF.groupby(\"id\")[\"sugarExists\"].any().sum()\n",
    "print(sugar)\n",
    "\n",
    "# There are more recipes that use salt than use sugar at any point in the process"
   ]
  },
  {
   "cell_type": "code",
   "execution_count": 8,
   "id": "6f23a01f-421b-4dd8-9b2f-71ec16f59c18",
   "metadata": {},
   "outputs": [],
   "source": [
    "#3.2 \n",
    "# COUNT VALUES OF SALT AND SUGAR AND DETERMINE WHICH THERE IS MORE OF\n",
    "#from fractions import Fraction\n",
    "\n",
    "#recipesdf[\"\"] = recipesdf[\"quantity\"].Fraction(recipdesdf[\"quantity\"])\n",
    "#recipesdf[\"result\"] = recipesdf[\"quantity\"].str.split(\"/\").apply(lambda x: float(x[0]) / float(x[1]))\n",
    "#saltQuantity = recipesdf.groupby(\"saltExists\")[\"quantity\"].sum()\n",
    "#saltQuantity\n",
    "#recipesdf\n",
    "\n",
    "# Since there are certain quantities which are fractions, I would need to create a function that splits the \n",
    "# fractions into their float counterparts and after many attempts based on internet searches (see some above)\n",
    "# I haven't been able to succesfully achieve that transformation. Because I can't transform those into floats,\n",
    "# I can't do the sum of all quantities of sugar and sum of all quantities of salt and compare the two.\n",
    "# Additionally, the it's really difficult to compare quantities when the units are different. Sometimes you need\n",
    "# a pinch of salt (and who can say how much that is compared to a teaspoon) which means that even if I got the \n",
    "# splitting sorted out, I would still not be gathering accurate information about absolute quantities."
   ]
  },
  {
   "cell_type": "markdown",
   "id": "e68af693-fdf7-4e45-b7e2-4486a9b15da0",
   "metadata": {},
   "source": [
    "I spent around 8 hours on this assignment"
   ]
  }
 ],
 "metadata": {
  "kernelspec": {
   "display_name": "Python 3",
   "language": "python",
   "name": "python3"
  },
  "language_info": {
   "codemirror_mode": {
    "name": "ipython",
    "version": 3
   },
   "file_extension": ".py",
   "mimetype": "text/x-python",
   "name": "python",
   "nbconvert_exporter": "python",
   "pygments_lexer": "ipython3",
   "version": "3.8.8"
  }
 },
 "nbformat": 4,
 "nbformat_minor": 5
}
